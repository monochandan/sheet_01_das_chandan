{
 "cells": [
  {
   "cell_type": "code",
   "execution_count": 1,
   "metadata": {},
   "outputs": [
    {
     "name": "stdout",
     "output_type": "stream",
     "text": [
      "Given number:  12\n",
      "Initial value:  2\n",
      "4.0\n",
      "error:  0.5358983848622456\n",
      "3.5\n",
      "error:  0.035898384862245614\n",
      "3.4642857142857144\n",
      "error:  0.00018409914796002624\n",
      "3.4641016200294548\n",
      "error:  4.89170037809572e-09\n",
      "3.4641016151377544\n",
      "error:  0.0\n"
     ]
    }
   ],
   "source": [
    "a = int(input('Entera non negative number: '))\n",
    "x = int(input('choose an initial value: '))\n",
    "print('Given number: ', a)\n",
    "print('Initial value: ', x)\n",
    "\n",
    "er = 9999999999\n",
    "\n",
    "#error = 0.0000000001\n",
    "\n",
    "while er > 0.0000000001:\n",
    "    x = 0.5*(x + (a/x))\n",
    "    print(x)\n",
    "    er = abs(x - a ** 0.5)\n",
    "    print('error: ', er)"
   ]
  },
  {
   "cell_type": "code",
   "execution_count": 2,
   "metadata": {},
   "outputs": [],
   "source": [
    "def partial_sum(l,pos):\n",
    "    sum = 0 \n",
    "    for i in range(pos):\n",
    "         sum += l[i]\n",
    "    return sum"
   ]
  },
  {
   "cell_type": "code",
   "execution_count": 3,
   "metadata": {},
   "outputs": [
    {
     "name": "stdout",
     "output_type": "stream",
     "text": [
      "List is:  [1, 2, 3, 47, 5]\n",
      "Given position is:  3\n",
      "The partial sum of  3 is:  6\n"
     ]
    }
   ],
   "source": [
    "l= [] \n",
    "n = int(input('the size of natural number sequence:'))\n",
    "\n",
    "for i in range(0, n):\n",
    "    element = int(input())\n",
    "    l.append(element)\n",
    "\n",
    "print('List is: ',l)\n",
    "pos = int(input('Enter a position:  '))\n",
    "print('Given position is: ', pos)\n",
    "res = partial_sum(l,pos)\n",
    "print('The partial sum of ',pos, 'is: ', res)"
   ]
  }
 ],
 "metadata": {
  "interpreter": {
   "hash": "539e696b46079bd60535e35cfc42823da8d0d93f7bb275727d1f97863f1288bc"
  },
  "kernelspec": {
   "display_name": "Python 3.9.7 64-bit ('first_env_for_practice': conda)",
   "name": "python3"
  },
  "language_info": {
   "codemirror_mode": {
    "name": "ipython",
    "version": 3
   },
   "file_extension": ".py",
   "mimetype": "text/x-python",
   "name": "python",
   "nbconvert_exporter": "python",
   "pygments_lexer": "ipython3",
   "version": "3.9.7"
  },
  "orig_nbformat": 4
 },
 "nbformat": 4,
 "nbformat_minor": 2
}
